{
 "cells": [
  {
   "cell_type": "code",
   "execution_count": 22,
   "id": "bc79be5d-6fa6-4df4-8b94-7e45b1923277",
   "metadata": {},
   "outputs": [],
   "source": [
    "import numpy as np\n",
    "from collections import defaultdict\n",
    "from itertools import combinations\n",
    "import networkx as nx\n",
    "import matplotlib.pyplot as plt\n",
    "\n",
    "from dwave.system import DWaveSampler\n",
    "\n",
    "%matplotlib inline"
   ]
  },
  {
   "cell_type": "markdown",
   "id": "6dfec2de-00db-4aa8-9433-c047aebeeffa",
   "metadata": {
    "tags": []
   },
   "source": [
    "## Graph Partitioning - a small example"
   ]
  },
  {
   "cell_type": "code",
   "execution_count": 18,
   "id": "661ac98a-8d31-4960-ba4c-714f58bc72f9",
   "metadata": {},
   "outputs": [
    {
     "data": {
      "image/png": "[encoded data removed]",
      "text/plain": [
       "<Figure size 400x300 with 1 Axes>"
      ]
     },
     "metadata": {},
     "output_type": "display_data"
    }
   ],
   "source": [
    "G = nx.Graph()\n",
    "G.add_edge('1', '2')\n",
    "G.add_edge('2', '3')\n",
    "G.add_edge('1', '5')\n",
    "G.add_edge('5', '6')\n",
    "G.add_edge('4', '5')\n",
    "plt.figure(figsize=(4,3))\n",
    "nx.draw(G, with_labels=True)"
   ]
  },
  {
   "cell_type": "code",
   "execution_count": 19,
   "id": "a793eb1a-b118-4f65-990f-b866d38181db",
   "metadata": {},
   "outputs": [],
   "source": [
    "## the embedding to chimera \n",
    "\n",
    "## insert picture"
   ]
  },
  {
   "cell_type": "code",
   "execution_count": 24,
   "id": "012fb197-20db-4045-be47-6848b474f541",
   "metadata": {},
   "outputs": [],
   "source": [
    "\"\"\"\n",
    "    Set up parameters\n",
    "\"\"\"\n",
    "\n",
    "## edges and nodes in the chimera label\n",
    "nodes_list = [0,1,2,3,4,5]\n",
    "edges_list = [(0,4),(0,5),(1,5),(2,5),(3,4)]\n",
    "\n",
    "N = 6\n",
    "gamma = 1\n",
    "\n",
    "num_shots = 200"
   ]
  },
  {
   "cell_type": "code",
   "execution_count": 26,
   "id": "e436ec32-d745-4788-8441-c4dc66d54f0d",
   "metadata": {},
   "outputs": [
    {
     "name": "stdout",
     "output_type": "stream",
     "text": [
      "defaultdict(<class 'int'>, {(0, 4): 0, (0, 0): -3, (4, 4): -3, (0, 5): 0, (5, 5): -2, (1, 5): 0, (1, 1): -4, (2, 5): 0, (2, 2): -4, (3, 4): 0, (3, 3): -4, (0, 1): 2, (0, 2): 2, (0, 3): 2, (1, 2): 2, (1, 3): 2, (1, 4): 2, (2, 3): 2, (2, 4): 2, (3, 5): 2, (4, 5): 2})\n"
     ]
    }
   ],
   "source": [
    "\"\"\" \n",
    "    Embedding the above small graph example's Hamiltonian into the first chimera unit cell of DW_2000Q_6 machine\n",
    "\"\"\"\n",
    "\n",
    "## couplings dictionaries\n",
    "Q = defaultdict(int)\n",
    "\n",
    "## objective function\n",
    "for i,j in edges_list:\n",
    "    Q[(i,j)] += -2\n",
    "    Q[(i,i)] += 1\n",
    "    Q[(j,j)] += 1\n",
    "\n",
    "## quadratic term in the constraint\n",
    "for i, j in combinations(nodes_list, 2):\n",
    "    Q[(i,j)] += gamma * 2\n",
    "\n",
    "## linear terms in the constraint\n",
    "for node in nodes_list:\n",
    "    Q[(node, node)] += gamma * (1 - N)\n",
    " \n",
    "print(Q)"
   ]
  },
  {
   "cell_type": "code",
   "execution_count": null,
   "id": "333353bf-5bfa-4460-95ca-9f51db86745d",
   "metadata": {},
   "outputs": [],
   "source": [
    "## calling DW_2000Q_6 machine                       \n",
    "solver = DWaveSampler(solver='DW_2000Q_6')\n",
    "\n",
    "## use qubo to solve the problem Q\n",
    "results = solver.sample_qubo(Q, num_reads=num_shots)"
   ]
  },
  {
   "cell_type": "code",
   "execution_count": null,
   "id": "85b5f2f7-d99c-4549-be11-2fadaf1cd17d",
   "metadata": {},
   "outputs": [],
   "source": [
    "print(results)"
   ]
  }
 ],
 "metadata": {
  "kernelspec": {
   "display_name": "Python 3 (ipykernel)",
   "language": "python",
   "name": "python3"
  },
  "language_info": {
   "codemirror_mode": {
    "name": "ipython",
    "version": 3
   },
   "file_extension": ".py",
   "mimetype": "text/x-python",
   "name": "python",
   "nbconvert_exporter": "python",
   "pygments_lexer": "ipython3",
   "version": "3.10.7"
  }
 },
 "nbformat": 4,
 "nbformat_minor": 5
}
